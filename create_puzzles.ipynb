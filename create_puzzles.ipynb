{
 "cells": [
  {
   "cell_type": "code",
   "execution_count": 2,
   "metadata": {},
   "outputs": [
    {
     "name": "stdout",
     "output_type": "stream",
     "text": [
      "pygame 1.9.6\n",
      "Hello from the pygame community. https://www.pygame.org/contribute.html\n"
     ]
    }
   ],
   "source": [
    "import numpy as np\n",
    "import matplotlib.pyplot as plt\n",
    "from sudoku import Sudoku\n",
    "from random import randint\n",
    "import pickle"
   ]
  },
  {
   "cell_type": "code",
   "execution_count": 3,
   "metadata": {},
   "outputs": [
    {
     "data": {
      "text/plain": [
       "[[0, 7, 0, 0, 0, 6, 3, 5, 2],\n",
       " [0, 6, 0, 0, 7, 0, 0, 4, 0],\n",
       " [3, 0, 9, 5, 4, 0, 6, 8, 7],\n",
       " [7, 4, 2, 0, 9, 0, 5, 0, 6],\n",
       " [0, 5, 0, 0, 1, 0, 2, 9, 8],\n",
       " [0, 0, 0, 6, 0, 0, 7, 0, 0],\n",
       " [4, 3, 0, 0, 6, 5, 1, 2, 9],\n",
       " [2, 8, 0, 0, 3, 9, 4, 0, 0],\n",
       " [0, 1, 5, 7, 2, 0, 0, 6, 0]]"
      ]
     },
     "execution_count": 3,
     "metadata": {},
     "output_type": "execute_result"
    }
   ],
   "source": [
    "# Check if the import was succesfull\n",
    "game_1 = Sudoku(45)\n",
    "game_1.fill_grid()\n",
    "game_1.hide_numbers()\n",
    "game_1.grid"
   ]
  },
  {
   "cell_type": "code",
   "execution_count": 12,
   "metadata": {},
   "outputs": [],
   "source": [
    "# Create many sudoku puzzles to train to\n",
    "def puzzle_generator(n):\n",
    "    '''\n",
    "    n - number of puzzle to generate\n",
    "    '''\n",
    "    \n",
    "    unsolved = []\n",
    "    solved = []\n",
    "\n",
    "    for i in range(n):\n",
    "        game = Sudoku(randint(35,60))\n",
    "        game.fill_grid()\n",
    "        original, board = game.hide_numbers()\n",
    "        solved.append(original)\n",
    "        unsolved.append(board)\n",
    "\n",
    "        if i % 1000 == 0:\n",
    "            print('i={}'.format(i))\n",
    "        \n",
    "    \n",
    "    return unsolved, solved\n"
   ]
  },
  {
   "cell_type": "code",
   "execution_count": null,
   "metadata": {},
   "outputs": [],
   "source": [
    "unsolved, solved = puzzle_generator(50000)"
   ]
  },
  {
   "cell_type": "code",
   "execution_count": 11,
   "metadata": {},
   "outputs": [],
   "source": [
    "# Saving train puzzles:\n",
    "with open('sudoku.pkl', 'wb') as f:\n",
    "    pickle.dump([unsolvedt, solved], f)"
   ]
  },
  {
   "cell_type": "code",
   "execution_count": 17,
   "metadata": {},
   "outputs": [
    {
     "name": "stdout",
     "output_type": "stream",
     "text": [
      "i=0\n",
      "i=1000\n",
      "i=2000\n",
      "i=3000\n",
      "i=4000\n"
     ]
    }
   ],
   "source": [
    "unsolved_test, solved_test = puzzle_generator(5000)"
   ]
  },
  {
   "cell_type": "code",
   "execution_count": 18,
   "metadata": {},
   "outputs": [],
   "source": [
    "# Saving puzzles:\n",
    "with open('sudoku_test.pkl', 'wb') as f:\n",
    "    pickle.dump([unsolved_test, solved_test], f)"
   ]
  },
  {
   "cell_type": "code",
   "execution_count": null,
   "metadata": {},
   "outputs": [],
   "source": []
  }
 ],
 "metadata": {
  "kernelspec": {
   "display_name": "Python 3",
   "language": "python",
   "name": "python3"
  },
  "language_info": {
   "codemirror_mode": {
    "name": "ipython",
    "version": 3
   },
   "file_extension": ".py",
   "mimetype": "text/x-python",
   "name": "python",
   "nbconvert_exporter": "python",
   "pygments_lexer": "ipython3",
   "version": "3.7.4"
  }
 },
 "nbformat": 4,
 "nbformat_minor": 2
}
